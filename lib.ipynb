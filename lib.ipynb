{
 "cells": [
  {
   "cell_type": "code",
   "execution_count": 1,
   "metadata": {
    "colab": {
     "base_uri": "https://localhost:8080/"
    },
    "executionInfo": {
     "elapsed": 27620,
     "status": "ok",
     "timestamp": 1752426831893,
     "user": {
      "displayName": "Ivar Krauklis",
      "userId": "03959062022192129901"
     },
     "user_tz": -180
    },
    "id": "jAKZf_w72_zT",
    "outputId": "71c07aeb-7b3e-4efd-97e0-0efd5fdde208"
   },
   "outputs": [
    {
     "name": "stdout",
     "output_type": "stream",
     "text": [
      "Mounted at /content/drive\n"
     ]
    }
   ],
   "source": [
    "from google.colab import drive\n",
    "drive.mount('/content/drive')\n"
   ]
  },
  {
   "cell_type": "code",
   "execution_count": 2,
   "metadata": {
    "colab": {
     "base_uri": "https://localhost:8080/"
    },
    "executionInfo": {
     "elapsed": 8167,
     "status": "ok",
     "timestamp": 1752426842842,
     "user": {
      "displayName": "Ivar Krauklis",
      "userId": "03959062022192129901"
     },
     "user_tz": -180
    },
    "id": "_rcjzu5k3CS-",
    "outputId": "87acb530-c0e6-4427-f889-6d6ecfc81938"
   },
   "outputs": [
    {
     "name": "stdout",
     "output_type": "stream",
     "text": [
      "Requirement already satisfied: pip in /usr/local/lib/python3.11/dist-packages (24.1.2)\n",
      "Collecting pip\n",
      "  Downloading pip-25.1.1-py3-none-any.whl.metadata (3.6 kB)\n",
      "Downloading pip-25.1.1-py3-none-any.whl (1.8 MB)\n",
      "\u001b[?25l   \u001b[90m━━━━━━━━━━━━━━━━━━━━━━━━━━━━━━━━━━━━━━━━\u001b[0m \u001b[32m0.0/1.8 MB\u001b[0m \u001b[31m?\u001b[0m eta \u001b[36m-:--:--\u001b[0m\r\u001b[2K   \u001b[91m━━━━━━━━━━━━━━━━━━━━━━━\u001b[0m\u001b[90m╺\u001b[0m\u001b[90m━━━━━━━━━━━━━━━━\u001b[0m \u001b[32m1.1/1.8 MB\u001b[0m \u001b[31m31.4 MB/s\u001b[0m eta \u001b[36m0:00:01\u001b[0m\r\u001b[2K   \u001b[90m━━━━━━━━━━━━━━━━━━━━━━━━━━━━━━━━━━━━━━━━\u001b[0m \u001b[32m1.8/1.8 MB\u001b[0m \u001b[31m34.5 MB/s\u001b[0m eta \u001b[36m0:00:00\u001b[0m\n",
      "\u001b[?25hInstalling collected packages: pip\n",
      "  Attempting uninstall: pip\n",
      "    Found existing installation: pip 24.1.2\n",
      "    Uninstalling pip-24.1.2:\n",
      "      Successfully uninstalled pip-24.1.2\n",
      "Successfully installed pip-25.1.1\n"
     ]
    }
   ],
   "source": [
    "!pip install -U pip\n"
   ]
  },
  {
   "cell_type": "code",
   "execution_count": null,
   "metadata": {
    "colab": {
     "base_uri": "https://localhost:8080/"
    },
    "executionInfo": {
     "elapsed": 1065,
     "status": "ok",
     "timestamp": 1752426846246,
     "user": {
      "displayName": "Ivar Krauklis",
      "userId": "03959062022192129901"
     },
     "user_tz": -180
    },
    "id": "bEpekOrC3CQS",
    "outputId": "f84afef1-cbe5-4ebe-fc25-79596a852989"
   },
   "outputs": [
    {
     "name": "stdout",
     "output_type": "stream",
     "text": [
      "Cloning into 'fql'...\n",
      "remote: Enumerating objects: 38, done.\u001b[K\n",
      "remote: Counting objects: 100% (38/38), done.\u001b[K\n",
      "remote: Compressing objects: 100% (30/30), done.\u001b[K\n",
      "remote: Total 38 (delta 11), reused 32 (delta 6), pack-reused 0 (from 0)\u001b[K\n",
      "Receiving objects: 100% (38/38), 466.07 KiB | 10.13 MiB/s, done.\n",
      "Resolving deltas: 100% (11/11), done.\n"
     ]
    }
   ],
   "source": [
    "!git clone https://github.com/nikusrotuslomatus/fql_final_exp\n"
   ]
  },
  {
   "cell_type": "code",
   "execution_count": 6,
   "metadata": {
    "colab": {
     "base_uri": "https://localhost:8080/"
    },
    "executionInfo": {
     "elapsed": 15,
     "status": "ok",
     "timestamp": 1752427112214,
     "user": {
      "displayName": "Ivar Krauklis",
      "userId": "03959062022192129901"
     },
     "user_tz": -180
    },
    "id": "P0lUMj1-3CMY",
    "outputId": "a9adf142-a5ff-4409-8257-dbc28069dffe"
   },
   "outputs": [
    {
     "name": "stdout",
     "output_type": "stream",
     "text": [
      "/content/fql\n"
     ]
    }
   ],
   "source": [
    "%cd fql\n"
   ]
  },
  {
   "cell_type": "code",
   "execution_count": 5,
   "metadata": {
    "colab": {
     "base_uri": "https://localhost:8080/",
     "height": 1000
    },
    "executionInfo": {
     "elapsed": 35762,
     "status": "ok",
     "timestamp": 1752426886526,
     "user": {
      "displayName": "Ivar Krauklis",
      "userId": "03959062022192129901"
     },
     "user_tz": -180
    },
    "id": "VsTCygyb4rXp",
    "outputId": "73daeed1-dc00-461c-a69e-034e8a125afc"
   },
   "outputs": [
    {
     "name": "stdout",
     "output_type": "stream",
     "text": [
      "Collecting ogbench==1.1.0 (from -r requirements.txt (line 1))\n",
      "  Downloading ogbench-1.1.0-py3-none-any.whl.metadata (946 bytes)\n",
      "Requirement already satisfied: jax>=0.4.26 in /usr/local/lib/python3.11/dist-packages (from -r requirements.txt (line 2)) (0.5.2)\n",
      "Requirement already satisfied: flax>=0.8.4 in /usr/local/lib/python3.11/dist-packages (from -r requirements.txt (line 3)) (0.10.6)\n",
      "Collecting distrax>=0.1.5 (from -r requirements.txt (line 4))\n",
      "  Downloading distrax-0.1.5-py3-none-any.whl.metadata (13 kB)\n",
      "Collecting ml_collections (from -r requirements.txt (line 5))\n",
      "  Downloading ml_collections-1.1.0-py3-none-any.whl.metadata (22 kB)\n",
      "Requirement already satisfied: matplotlib in /usr/local/lib/python3.11/dist-packages (from -r requirements.txt (line 6)) (3.10.0)\n",
      "Requirement already satisfied: moviepy in /usr/local/lib/python3.11/dist-packages (from -r requirements.txt (line 7)) (1.0.3)\n",
      "Requirement already satisfied: wandb in /usr/local/lib/python3.11/dist-packages (from -r requirements.txt (line 8)) (0.21.0)\n",
      "Collecting d4rl (from -r requirements.txt (line 9))\n",
      "  Downloading d4rl-1.1-py3-none-any.whl.metadata (270 bytes)\n",
      "Collecting gymnasium==0.29.1 (from -r requirements.txt (line 10))\n",
      "  Downloading gymnasium-0.29.1-py3-none-any.whl.metadata (10 kB)\n",
      "Collecting gym==0.23.1 (from -r requirements.txt (line 11))\n",
      "  Downloading gym-0.23.1.tar.gz (626 kB)\n",
      "\u001b[2K     \u001b[90m━━━━━━━━━━━━━━━━━━━━━━━━━━━━━━━━━━━━━━\u001b[0m \u001b[32m626.2/626.2 kB\u001b[0m \u001b[31m18.7 MB/s\u001b[0m eta \u001b[36m0:00:00\u001b[0m\n",
      "\u001b[?25h  Installing build dependencies ... \u001b[?25l\u001b[?25hdone\n",
      "  Getting requirements to build wheel ... \u001b[?25l\u001b[?25hdone\n",
      "  Preparing metadata (pyproject.toml) ... \u001b[?25l\u001b[?25hdone\n",
      "Collecting numpy==1.26.4 (from -r requirements.txt (line 12))\n",
      "  Downloading numpy-1.26.4-cp311-cp311-manylinux_2_17_x86_64.manylinux2014_x86_64.whl.metadata (61 kB)\n",
      "Collecting Cython<3 (from -r requirements.txt (line 14))\n",
      "  Downloading Cython-0.29.37-cp311-cp311-manylinux_2_17_x86_64.manylinux2014_x86_64.manylinux_2_24_x86_64.whl.metadata (3.1 kB)\n",
      "Collecting shimmy[gym-v21,gym-v26] (from -r requirements.txt (line 13))\n",
      "  Downloading Shimmy-2.0.0-py3-none-any.whl.metadata (3.5 kB)\n",
      "Collecting mujoco>=3.1.6 (from ogbench==1.1.0->-r requirements.txt (line 1))\n",
      "  Downloading mujoco-3.3.4-cp311-cp311-manylinux_2_17_x86_64.manylinux2014_x86_64.whl.metadata (44 kB)\n",
      "Collecting dm_control>=1.0.20 (from ogbench==1.1.0->-r requirements.txt (line 1))\n",
      "  Downloading dm_control-1.0.31-py3-none-any.whl.metadata (1.6 kB)\n",
      "Requirement already satisfied: cloudpickle>=1.2.0 in /usr/local/lib/python3.11/dist-packages (from gymnasium==0.29.1->-r requirements.txt (line 10)) (3.1.1)\n",
      "Requirement already satisfied: typing-extensions>=4.3.0 in /usr/local/lib/python3.11/dist-packages (from gymnasium==0.29.1->-r requirements.txt (line 10)) (4.14.1)\n",
      "Requirement already satisfied: farama-notifications>=0.0.1 in /usr/local/lib/python3.11/dist-packages (from gymnasium==0.29.1->-r requirements.txt (line 10)) (0.0.4)\n",
      "Requirement already satisfied: gym_notices>=0.0.4 in /usr/local/lib/python3.11/dist-packages (from gym==0.23.1->-r requirements.txt (line 11)) (0.0.8)\n",
      "Requirement already satisfied: jaxlib<=0.5.2,>=0.5.1 in /usr/local/lib/python3.11/dist-packages (from jax>=0.4.26->-r requirements.txt (line 2)) (0.5.1)\n",
      "Requirement already satisfied: ml_dtypes>=0.4.0 in /usr/local/lib/python3.11/dist-packages (from jax>=0.4.26->-r requirements.txt (line 2)) (0.4.1)\n",
      "Requirement already satisfied: opt_einsum in /usr/local/lib/python3.11/dist-packages (from jax>=0.4.26->-r requirements.txt (line 2)) (3.4.0)\n",
      "Requirement already satisfied: scipy>=1.11.1 in /usr/local/lib/python3.11/dist-packages (from jax>=0.4.26->-r requirements.txt (line 2)) (1.15.3)\n",
      "Requirement already satisfied: msgpack in /usr/local/lib/python3.11/dist-packages (from flax>=0.8.4->-r requirements.txt (line 3)) (1.1.1)\n",
      "Requirement already satisfied: optax in /usr/local/lib/python3.11/dist-packages (from flax>=0.8.4->-r requirements.txt (line 3)) (0.2.5)\n",
      "Requirement already satisfied: orbax-checkpoint in /usr/local/lib/python3.11/dist-packages (from flax>=0.8.4->-r requirements.txt (line 3)) (0.11.16)\n",
      "Requirement already satisfied: tensorstore in /usr/local/lib/python3.11/dist-packages (from flax>=0.8.4->-r requirements.txt (line 3)) (0.1.74)\n",
      "Requirement already satisfied: rich>=11.1 in /usr/local/lib/python3.11/dist-packages (from flax>=0.8.4->-r requirements.txt (line 3)) (13.9.4)\n",
      "Requirement already satisfied: PyYAML>=5.4.1 in /usr/local/lib/python3.11/dist-packages (from flax>=0.8.4->-r requirements.txt (line 3)) (6.0.2)\n",
      "Requirement already satisfied: treescope>=0.1.7 in /usr/local/lib/python3.11/dist-packages (from flax>=0.8.4->-r requirements.txt (line 3)) (0.1.9)\n",
      "Requirement already satisfied: absl-py>=0.9.0 in /usr/local/lib/python3.11/dist-packages (from distrax>=0.1.5->-r requirements.txt (line 4)) (1.4.0)\n",
      "Requirement already satisfied: chex>=0.1.8 in /usr/local/lib/python3.11/dist-packages (from distrax>=0.1.5->-r requirements.txt (line 4)) (0.1.89)\n",
      "Requirement already satisfied: tensorflow-probability>=0.15.0 in /usr/local/lib/python3.11/dist-packages (from distrax>=0.1.5->-r requirements.txt (line 4)) (0.25.0)\n",
      "Requirement already satisfied: contourpy>=1.0.1 in /usr/local/lib/python3.11/dist-packages (from matplotlib->-r requirements.txt (line 6)) (1.3.2)\n",
      "Requirement already satisfied: cycler>=0.10 in /usr/local/lib/python3.11/dist-packages (from matplotlib->-r requirements.txt (line 6)) (0.12.1)\n",
      "Requirement already satisfied: fonttools>=4.22.0 in /usr/local/lib/python3.11/dist-packages (from matplotlib->-r requirements.txt (line 6)) (4.58.5)\n",
      "Requirement already satisfied: kiwisolver>=1.3.1 in /usr/local/lib/python3.11/dist-packages (from matplotlib->-r requirements.txt (line 6)) (1.4.8)\n",
      "Requirement already satisfied: packaging>=20.0 in /usr/local/lib/python3.11/dist-packages (from matplotlib->-r requirements.txt (line 6)) (24.2)\n",
      "Requirement already satisfied: pillow>=8 in /usr/local/lib/python3.11/dist-packages (from matplotlib->-r requirements.txt (line 6)) (11.2.1)\n",
      "Requirement already satisfied: pyparsing>=2.3.1 in /usr/local/lib/python3.11/dist-packages (from matplotlib->-r requirements.txt (line 6)) (3.2.3)\n",
      "Requirement already satisfied: python-dateutil>=2.7 in /usr/local/lib/python3.11/dist-packages (from matplotlib->-r requirements.txt (line 6)) (2.9.0.post0)\n",
      "Requirement already satisfied: decorator<5.0,>=4.0.2 in /usr/local/lib/python3.11/dist-packages (from moviepy->-r requirements.txt (line 7)) (4.4.2)\n",
      "Requirement already satisfied: tqdm<5.0,>=4.11.2 in /usr/local/lib/python3.11/dist-packages (from moviepy->-r requirements.txt (line 7)) (4.67.1)\n",
      "Requirement already satisfied: requests<3.0,>=2.8.1 in /usr/local/lib/python3.11/dist-packages (from moviepy->-r requirements.txt (line 7)) (2.32.3)\n",
      "Requirement already satisfied: proglog<=1.0.0 in /usr/local/lib/python3.11/dist-packages (from moviepy->-r requirements.txt (line 7)) (0.1.12)\n",
      "Requirement already satisfied: imageio<3.0,>=2.5 in /usr/local/lib/python3.11/dist-packages (from moviepy->-r requirements.txt (line 7)) (2.37.0)\n",
      "Requirement already satisfied: imageio-ffmpeg>=0.2.0 in /usr/local/lib/python3.11/dist-packages (from moviepy->-r requirements.txt (line 7)) (0.6.0)\n",
      "Requirement already satisfied: charset-normalizer<4,>=2 in /usr/local/lib/python3.11/dist-packages (from requests<3.0,>=2.8.1->moviepy->-r requirements.txt (line 7)) (3.4.2)\n",
      "Requirement already satisfied: idna<4,>=2.5 in /usr/local/lib/python3.11/dist-packages (from requests<3.0,>=2.8.1->moviepy->-r requirements.txt (line 7)) (3.10)\n",
      "Requirement already satisfied: urllib3<3,>=1.21.1 in /usr/local/lib/python3.11/dist-packages (from requests<3.0,>=2.8.1->moviepy->-r requirements.txt (line 7)) (2.4.0)\n",
      "Requirement already satisfied: certifi>=2017.4.17 in /usr/local/lib/python3.11/dist-packages (from requests<3.0,>=2.8.1->moviepy->-r requirements.txt (line 7)) (2025.7.9)\n",
      "Requirement already satisfied: click!=8.0.0,>=7.1 in /usr/local/lib/python3.11/dist-packages (from wandb->-r requirements.txt (line 8)) (8.2.1)\n",
      "Requirement already satisfied: gitpython!=3.1.29,>=1.0.0 in /usr/local/lib/python3.11/dist-packages (from wandb->-r requirements.txt (line 8)) (3.1.44)\n",
      "Requirement already satisfied: platformdirs in /usr/local/lib/python3.11/dist-packages (from wandb->-r requirements.txt (line 8)) (4.3.8)\n",
      "Requirement already satisfied: protobuf!=4.21.0,!=5.28.0,<7,>=3.19.0 in /usr/local/lib/python3.11/dist-packages (from wandb->-r requirements.txt (line 8)) (5.29.5)\n",
      "Requirement already satisfied: pydantic<3 in /usr/local/lib/python3.11/dist-packages (from wandb->-r requirements.txt (line 8)) (2.11.7)\n",
      "Requirement already satisfied: sentry-sdk>=2.0.0 in /usr/local/lib/python3.11/dist-packages (from wandb->-r requirements.txt (line 8)) (2.32.0)\n",
      "Requirement already satisfied: annotated-types>=0.6.0 in /usr/local/lib/python3.11/dist-packages (from pydantic<3->wandb->-r requirements.txt (line 8)) (0.7.0)\n",
      "Requirement already satisfied: pydantic-core==2.33.2 in /usr/local/lib/python3.11/dist-packages (from pydantic<3->wandb->-r requirements.txt (line 8)) (2.33.2)\n",
      "Requirement already satisfied: typing-inspection>=0.4.0 in /usr/local/lib/python3.11/dist-packages (from pydantic<3->wandb->-r requirements.txt (line 8)) (0.4.1)\n",
      "Collecting mujoco-py (from d4rl->-r requirements.txt (line 9))\n",
      "  Downloading mujoco_py-2.1.2.14-py3-none-any.whl.metadata (669 bytes)\n",
      "Collecting pybullet (from d4rl->-r requirements.txt (line 9))\n",
      "  Downloading pybullet-3.2.7-cp311-cp311-manylinux_2_17_x86_64.manylinux2014_x86_64.whl.metadata (1.8 kB)\n",
      "Requirement already satisfied: h5py in /usr/local/lib/python3.11/dist-packages (from d4rl->-r requirements.txt (line 9)) (3.14.0)\n",
      "Requirement already satisfied: termcolor in /usr/local/lib/python3.11/dist-packages (from d4rl->-r requirements.txt (line 9)) (3.1.0)\n",
      "INFO: pip is looking at multiple versions of shimmy[gym-v21,gym-v26] to determine which version is compatible with other requirements. This could take a while.\n",
      "Collecting shimmy[gym-v21,gym-v26] (from -r requirements.txt (line 13))\n",
      "  Downloading Shimmy-1.3.0-py3-none-any.whl.metadata (3.7 kB)\n",
      "Collecting pyglet==1.5.11 (from shimmy[gym-v21,gym-v26]->-r requirements.txt (line 13))\n",
      "  Downloading pyglet-1.5.11-py3-none-any.whl.metadata (7.6 kB)\n",
      "Collecting shimmy[gym-v21,gym-v26] (from -r requirements.txt (line 13))\n",
      "  Downloading Shimmy-1.2.1-py3-none-any.whl.metadata (3.6 kB)\n",
      "  Downloading Shimmy-1.2.0-py3-none-any.whl.metadata (3.6 kB)\n",
      "  Downloading Shimmy-1.1.0-py3-none-any.whl.metadata (3.3 kB)\n",
      "  Downloading Shimmy-1.0.1-py3-none-any.whl.metadata (3.3 kB)\n",
      "  Downloading Shimmy-1.0.0-py3-none-any.whl.metadata (3.4 kB)\n",
      "  Downloading Shimmy-0.2.1-py3-none-any.whl.metadata (2.3 kB)\n",
      "\u001b[33mWARNING: shimmy 0.2.1 does not provide the extra 'gym-v21'\u001b[0m\u001b[33m\n",
      "\u001b[0m\u001b[33mWARNING: shimmy 0.2.1 does not provide the extra 'gym-v26'\u001b[0m\u001b[33m\n",
      "\u001b[0mRequirement already satisfied: toolz>=0.9.0 in /usr/local/lib/python3.11/dist-packages (from chex>=0.1.8->distrax>=0.1.5->-r requirements.txt (line 4)) (0.12.1)\n",
      "Collecting dm-env (from dm_control>=1.0.20->ogbench==1.1.0->-r requirements.txt (line 1))\n",
      "  Downloading dm_env-1.6-py3-none-any.whl.metadata (966 bytes)\n",
      "Requirement already satisfied: dm-tree!=0.1.2 in /usr/local/lib/python3.11/dist-packages (from dm_control>=1.0.20->ogbench==1.1.0->-r requirements.txt (line 1)) (0.1.9)\n",
      "Collecting glfw (from dm_control>=1.0.20->ogbench==1.1.0->-r requirements.txt (line 1))\n",
      "  Downloading glfw-2.9.0-py2.py27.py3.py30.py31.py32.py33.py34.py35.py36.py37.py38.p39.p310.p311.p312.p313-none-manylinux_2_28_x86_64.whl.metadata (5.4 kB)\n",
      "Collecting labmaze (from dm_control>=1.0.20->ogbench==1.1.0->-r requirements.txt (line 1))\n",
      "  Downloading labmaze-1.0.6-cp311-cp311-manylinux_2_17_x86_64.manylinux2014_x86_64.whl.metadata (278 bytes)\n",
      "Requirement already satisfied: lxml in /usr/local/lib/python3.11/dist-packages (from dm_control>=1.0.20->ogbench==1.1.0->-r requirements.txt (line 1)) (5.4.0)\n",
      "Requirement already satisfied: pyopengl>=3.1.4 in /usr/local/lib/python3.11/dist-packages (from dm_control>=1.0.20->ogbench==1.1.0->-r requirements.txt (line 1)) (3.1.9)\n",
      "Requirement already satisfied: setuptools!=50.0.0 in /usr/local/lib/python3.11/dist-packages (from dm_control>=1.0.20->ogbench==1.1.0->-r requirements.txt (line 1)) (75.2.0)\n",
      "Requirement already satisfied: attrs>=18.2.0 in /usr/local/lib/python3.11/dist-packages (from dm-tree!=0.1.2->dm_control>=1.0.20->ogbench==1.1.0->-r requirements.txt (line 1)) (25.3.0)\n",
      "Requirement already satisfied: wrapt>=1.11.2 in /usr/local/lib/python3.11/dist-packages (from dm-tree!=0.1.2->dm_control>=1.0.20->ogbench==1.1.0->-r requirements.txt (line 1)) (1.17.2)\n",
      "Requirement already satisfied: gitdb<5,>=4.0.1 in /usr/local/lib/python3.11/dist-packages (from gitpython!=3.1.29,>=1.0.0->wandb->-r requirements.txt (line 8)) (4.0.12)\n",
      "Requirement already satisfied: smmap<6,>=3.0.1 in /usr/local/lib/python3.11/dist-packages (from gitdb<5,>=4.0.1->gitpython!=3.1.29,>=1.0.0->wandb->-r requirements.txt (line 8)) (5.0.2)\n",
      "Requirement already satisfied: etils[epath] in /usr/local/lib/python3.11/dist-packages (from mujoco>=3.1.6->ogbench==1.1.0->-r requirements.txt (line 1)) (1.12.2)\n",
      "Requirement already satisfied: six>=1.5 in /usr/local/lib/python3.11/dist-packages (from python-dateutil>=2.7->matplotlib->-r requirements.txt (line 6)) (1.17.0)\n",
      "Requirement already satisfied: markdown-it-py>=2.2.0 in /usr/local/lib/python3.11/dist-packages (from rich>=11.1->flax>=0.8.4->-r requirements.txt (line 3)) (3.0.0)\n",
      "Requirement already satisfied: pygments<3.0.0,>=2.13.0 in /usr/local/lib/python3.11/dist-packages (from rich>=11.1->flax>=0.8.4->-r requirements.txt (line 3)) (2.19.2)\n",
      "Requirement already satisfied: mdurl~=0.1 in /usr/local/lib/python3.11/dist-packages (from markdown-it-py>=2.2.0->rich>=11.1->flax>=0.8.4->-r requirements.txt (line 3)) (0.1.2)\n",
      "Requirement already satisfied: gast>=0.3.2 in /usr/local/lib/python3.11/dist-packages (from tensorflow-probability>=0.15.0->distrax>=0.1.5->-r requirements.txt (line 4)) (0.6.0)\n",
      "Requirement already satisfied: fsspec in /usr/local/lib/python3.11/dist-packages (from etils[epath]->mujoco>=3.1.6->ogbench==1.1.0->-r requirements.txt (line 1)) (2025.3.2)\n",
      "Requirement already satisfied: importlib_resources in /usr/local/lib/python3.11/dist-packages (from etils[epath]->mujoco>=3.1.6->ogbench==1.1.0->-r requirements.txt (line 1)) (6.5.2)\n",
      "Requirement already satisfied: zipp in /usr/local/lib/python3.11/dist-packages (from etils[epath]->mujoco>=3.1.6->ogbench==1.1.0->-r requirements.txt (line 1)) (3.23.0)\n",
      "Requirement already satisfied: cffi>=1.10 in /usr/local/lib/python3.11/dist-packages (from mujoco-py->d4rl->-r requirements.txt (line 9)) (1.17.1)\n",
      "Collecting fasteners~=0.15 (from mujoco-py->d4rl->-r requirements.txt (line 9))\n",
      "  Downloading fasteners-0.19-py3-none-any.whl.metadata (4.9 kB)\n",
      "Requirement already satisfied: pycparser in /usr/local/lib/python3.11/dist-packages (from cffi>=1.10->mujoco-py->d4rl->-r requirements.txt (line 9)) (2.22)\n",
      "Requirement already satisfied: nest_asyncio in /usr/local/lib/python3.11/dist-packages (from orbax-checkpoint->flax>=0.8.4->-r requirements.txt (line 3)) (1.6.0)\n",
      "Requirement already satisfied: humanize in /usr/local/lib/python3.11/dist-packages (from orbax-checkpoint->flax>=0.8.4->-r requirements.txt (line 3)) (4.12.3)\n",
      "Requirement already satisfied: simplejson>=3.16.0 in /usr/local/lib/python3.11/dist-packages (from orbax-checkpoint->flax>=0.8.4->-r requirements.txt (line 3)) (3.20.1)\n",
      "Downloading ogbench-1.1.0-py3-none-any.whl (8.9 MB)\n",
      "\u001b[2K   \u001b[90m━━━━━━━━━━━━━━━━━━━━━━━━━━━━━━━━━━━━━━━━\u001b[0m \u001b[32m8.9/8.9 MB\u001b[0m \u001b[31m10.4 MB/s\u001b[0m eta \u001b[36m0:00:00\u001b[0m\n",
      "\u001b[?25hDownloading gymnasium-0.29.1-py3-none-any.whl (953 kB)\n",
      "\u001b[2K   \u001b[90m━━━━━━━━━━━━━━━━━━━━━━━━━━━━━━━━━━━━━━━━\u001b[0m \u001b[32m953.9/953.9 kB\u001b[0m \u001b[31m55.5 MB/s\u001b[0m eta \u001b[36m0:00:00\u001b[0m\n",
      "\u001b[?25hDownloading numpy-1.26.4-cp311-cp311-manylinux_2_17_x86_64.manylinux2014_x86_64.whl (18.3 MB)\n",
      "\u001b[2K   \u001b[90m━━━━━━━━━━━━━━━━━━━━━━━━━━━━━━━━━━━━━━━━\u001b[0m \u001b[32m18.3/18.3 MB\u001b[0m \u001b[31m192.0 MB/s\u001b[0m eta \u001b[36m0:00:00\u001b[0m\n",
      "\u001b[?25hDownloading Cython-0.29.37-cp311-cp311-manylinux_2_17_x86_64.manylinux2014_x86_64.manylinux_2_24_x86_64.whl (1.9 MB)\n",
      "\u001b[2K   \u001b[90m━━━━━━━━━━━━━━━━━━━━━━━━━━━━━━━━━━━━━━━━\u001b[0m \u001b[32m1.9/1.9 MB\u001b[0m \u001b[31m97.6 MB/s\u001b[0m eta \u001b[36m0:00:00\u001b[0m\n",
      "\u001b[?25hDownloading distrax-0.1.5-py3-none-any.whl (319 kB)\n",
      "Downloading ml_collections-1.1.0-py3-none-any.whl (76 kB)\n",
      "Downloading d4rl-1.1-py3-none-any.whl (26.4 MB)\n",
      "\u001b[2K   \u001b[90m━━━━━━━━━━━━━━━━━━━━━━━━━━━━━━━━━━━━━━━━\u001b[0m \u001b[32m26.4/26.4 MB\u001b[0m \u001b[31m9.5 MB/s\u001b[0m eta \u001b[36m0:00:00\u001b[0m\n",
      "\u001b[?25hDownloading Shimmy-0.2.1-py3-none-any.whl (25 kB)\n",
      "Downloading dm_control-1.0.31-py3-none-any.whl (56.4 MB)\n",
      "\u001b[2K   \u001b[90m━━━━━━━━━━━━━━━━━━━━━━━━━━━━━━━━━━━━━━━━\u001b[0m \u001b[32m56.4/56.4 MB\u001b[0m \u001b[31m45.4 MB/s\u001b[0m eta \u001b[36m0:00:00\u001b[0m\n",
      "\u001b[?25hDownloading mujoco-3.3.4-cp311-cp311-manylinux_2_17_x86_64.manylinux2014_x86_64.whl (6.6 MB)\n",
      "\u001b[2K   \u001b[90m━━━━━━━━━━━━━━━━━━━━━━━━━━━━━━━━━━━━━━━━\u001b[0m \u001b[32m6.6/6.6 MB\u001b[0m \u001b[31m63.7 MB/s\u001b[0m eta \u001b[36m0:00:00\u001b[0m\n",
      "\u001b[?25hDownloading dm_env-1.6-py3-none-any.whl (26 kB)\n",
      "Downloading glfw-2.9.0-py2.py27.py3.py30.py31.py32.py33.py34.py35.py36.py37.py38.p39.p310.p311.p312.p313-none-manylinux_2_28_x86_64.whl (243 kB)\n",
      "Downloading labmaze-1.0.6-cp311-cp311-manylinux_2_17_x86_64.manylinux2014_x86_64.whl (4.9 MB)\n",
      "\u001b[2K   \u001b[90m━━━━━━━━━━━━━━━━━━━━━━━━━━━━━━━━━━━━━━━━\u001b[0m \u001b[32m4.9/4.9 MB\u001b[0m \u001b[31m33.7 MB/s\u001b[0m eta \u001b[36m0:00:00\u001b[0m\n",
      "\u001b[?25hDownloading mujoco_py-2.1.2.14-py3-none-any.whl (2.4 MB)\n",
      "\u001b[2K   \u001b[90m━━━━━━━━━━━━━━━━━━━━━━━━━━━━━━━━━━━━━━━━\u001b[0m \u001b[32m2.4/2.4 MB\u001b[0m \u001b[31m96.7 MB/s\u001b[0m eta \u001b[36m0:00:00\u001b[0m\n",
      "\u001b[?25hDownloading fasteners-0.19-py3-none-any.whl (18 kB)\n",
      "Downloading pybullet-3.2.7-cp311-cp311-manylinux_2_17_x86_64.manylinux2014_x86_64.whl (103.2 MB)\n",
      "\u001b[2K   \u001b[90m━━━━━━━━━━━━━━━━━━━━━━━━━━━━━━━━━━━━━━━━\u001b[0m \u001b[32m103.2/103.2 MB\u001b[0m \u001b[31m44.7 MB/s\u001b[0m eta \u001b[36m0:00:00\u001b[0m\n",
      "\u001b[?25hBuilding wheels for collected packages: gym\n",
      "  Building wheel for gym (pyproject.toml) ... \u001b[?25l\u001b[?25hdone\n",
      "  Created wheel for gym: filename=gym-0.23.1-py3-none-any.whl size=701453 sha256=86ac55af5f528ec860f46974e40cd22849e701a4621abfa6250dbb674085548f\n",
      "  Stored in directory: /root/.cache/pip/wheels/5b/dd/a4/b1860cec4c1751b5a84c31e2abc3b88bd71e11c1df79b73986\n",
      "Successfully built gym\n",
      "Installing collected packages: pybullet, glfw, numpy, ml_collections, fasteners, Cython, labmaze, gymnasium, gym, shimmy, mujoco-py, mujoco, dm-env, dm_control, ogbench, d4rl, distrax\n",
      "\u001b[2K  Attempting uninstall: numpy\n",
      "\u001b[2K    Found existing installation: numpy 2.0.2\n",
      "\u001b[2K    Uninstalling numpy-2.0.2:\n",
      "\u001b[2K      Successfully uninstalled numpy-2.0.2\n",
      "\u001b[2K  Attempting uninstall: Cython\n",
      "\u001b[2K    Found existing installation: Cython 3.0.12\n",
      "\u001b[2K    Uninstalling Cython-3.0.12:\n",
      "\u001b[2K      Successfully uninstalled Cython-3.0.12\n",
      "\u001b[2K  Attempting uninstall: gymnasium\n",
      "\u001b[2K    Found existing installation: gymnasium 1.2.0\n",
      "\u001b[2K    Uninstalling gymnasium-1.2.0:\n",
      "\u001b[2K      Successfully uninstalled gymnasium-1.2.0\n",
      "\u001b[2K  Attempting uninstall: gym\n",
      "\u001b[2K    Found existing installation: gym 0.25.2\n",
      "\u001b[2K    Uninstalling gym-0.25.2:\n",
      "\u001b[2K      Successfully uninstalled gym-0.25.2\n",
      "\u001b[2K   \u001b[90m━━━━━━━━━━━━━━━━━━━━━━━━━━━━━━━━━━━━━━━━\u001b[0m \u001b[32m17/17\u001b[0m [distrax]\n",
      "\u001b[1A\u001b[2K\u001b[31mERROR: pip's dependency resolver does not currently take into account all the packages that are installed. This behaviour is the source of the following dependency conflicts.\n",
      "dopamine-rl 4.1.2 requires gymnasium>=1.0.0, but you have gymnasium 0.29.1 which is incompatible.\n",
      "opencv-python-headless 4.12.0.88 requires numpy<2.3.0,>=2; python_version >= \"3.9\", but you have numpy 1.26.4 which is incompatible.\n",
      "thinc 8.3.6 requires numpy<3.0.0,>=2.0.0, but you have numpy 1.26.4 which is incompatible.\u001b[0m\u001b[31m\n",
      "\u001b[0mSuccessfully installed Cython-0.29.37 d4rl-1.1 distrax-0.1.5 dm-env-1.6 dm_control-1.0.31 fasteners-0.19 glfw-2.9.0 gym-0.23.1 gymnasium-0.29.1 labmaze-1.0.6 ml_collections-1.1.0 mujoco-3.3.4 mujoco-py-2.1.2.14 numpy-1.26.4 ogbench-1.1.0 pybullet-3.2.7 shimmy-0.2.1\n"
     ]
    },
    {
     "data": {
      "application/vnd.colab-display-data+json": {
       "id": "10294e2e802e4e799c18bdaada5f3d63",
       "pip_warning": {
        "packages": [
         "numpy"
        ]
       }
      }
     },
     "metadata": {},
     "output_type": "display_data"
    }
   ],
   "source": [
    "!pip install -r requirements.txt\n"
   ]
  },
  {
   "cell_type": "code",
   "execution_count": 1,
   "metadata": {
    "colab": {
     "base_uri": "https://localhost:8080/"
    },
    "executionInfo": {
     "elapsed": 10528,
     "status": "ok",
     "timestamp": 1752426908226,
     "user": {
      "displayName": "Ivar Krauklis",
      "userId": "03959062022192129901"
     },
     "user_tz": -180
    },
    "id": "4ohk_SWF5Daw",
    "outputId": "987866b7-ee17-4242-c801-582d0c4c5a23"
   },
   "outputs": [
    {
     "name": "stdout",
     "output_type": "stream",
     "text": [
      "Looking in links: https://storage.googleapis.com/jax-releases/jax_cuda_releases.html\n",
      "Collecting jax==0.4.26 (from jax[cuda11_pip]==0.4.26)\n",
      "  Downloading jax-0.4.26-py3-none-any.whl.metadata (23 kB)\n",
      "Requirement already satisfied: ml-dtypes>=0.2.0 in /usr/local/lib/python3.11/dist-packages (from jax==0.4.26->jax[cuda11_pip]==0.4.26) (0.4.1)\n",
      "Requirement already satisfied: numpy>=1.22 in /usr/local/lib/python3.11/dist-packages (from jax==0.4.26->jax[cuda11_pip]==0.4.26) (1.26.4)\n",
      "Requirement already satisfied: opt-einsum in /usr/local/lib/python3.11/dist-packages (from jax==0.4.26->jax[cuda11_pip]==0.4.26) (3.4.0)\n",
      "Requirement already satisfied: scipy>=1.9 in /usr/local/lib/python3.11/dist-packages (from jax==0.4.26->jax[cuda11_pip]==0.4.26) (1.15.3)\n",
      "\u001b[33mWARNING: jax 0.4.26 does not provide the extra 'cuda11-pip'\u001b[0m\u001b[33m\n",
      "\u001b[0mDownloading jax-0.4.26-py3-none-any.whl (1.9 MB)\n",
      "\u001b[2K   \u001b[90m━━━━━━━━━━━━━━━━━━━━━━━━━━━━━━━━━━━━━━━━\u001b[0m \u001b[32m1.9/1.9 MB\u001b[0m \u001b[31m42.4 MB/s\u001b[0m eta \u001b[36m0:00:00\u001b[0m\n",
      "\u001b[?25hInstalling collected packages: jax\n",
      "  Attempting uninstall: jax\n",
      "    Found existing installation: jax 0.5.2\n",
      "    Uninstalling jax-0.5.2:\n",
      "      Successfully uninstalled jax-0.5.2\n",
      "\u001b[31mERROR: pip's dependency resolver does not currently take into account all the packages that are installed. This behaviour is the source of the following dependency conflicts.\n",
      "dopamine-rl 4.1.2 requires gymnasium>=1.0.0, but you have gymnasium 0.29.1 which is incompatible.\n",
      "orbax-checkpoint 0.11.16 requires jax>=0.5.0, but you have jax 0.4.26 which is incompatible.\n",
      "chex 0.1.89 requires jax>=0.4.27, but you have jax 0.4.26 which is incompatible.\n",
      "flax 0.10.6 requires jax>=0.5.1, but you have jax 0.4.26 which is incompatible.\n",
      "optax 0.2.5 requires jax>=0.4.27, but you have jax 0.4.26 which is incompatible.\u001b[0m\u001b[31m\n",
      "\u001b[0mSuccessfully installed jax-0.4.26\n"
     ]
    }
   ],
   "source": [
    "!pip install -U \"jax[cuda11_pip]==0.4.26\" -f https://storage.googleapis.com/jax-releases/jax_cuda_releases.html\n"
   ]
  },
  {
   "cell_type": "code",
   "execution_count": 2,
   "metadata": {
    "colab": {
     "base_uri": "https://localhost:8080/",
     "height": 1000
    },
    "executionInfo": {
     "elapsed": 23145,
     "status": "error",
     "timestamp": 1752426931354,
     "user": {
      "displayName": "Ivar Krauklis",
      "userId": "03959062022192129901"
     },
     "user_tz": -180
    },
    "id": "YQXupqlf50qW",
    "outputId": "fd5daed8-ec36-495b-a064-369e95437ec8"
   },
   "outputs": [
    {
     "name": "stdout",
     "output_type": "stream",
     "text": [
      "Found existing installation: jax 0.4.26\n",
      "Uninstalling jax-0.4.26:\n",
      "  Successfully uninstalled jax-0.4.26\n",
      "Found existing installation: jaxlib 0.5.1\n",
      "Uninstalling jaxlib-0.5.1:\n",
      "  Successfully uninstalled jaxlib-0.5.1\n",
      "Looking in links: https://storage.googleapis.com/jax-releases/jax_cuda_releases.html\n",
      "Collecting jax[cuda11_pip]\n",
      "  Downloading jax-0.6.2-py3-none-any.whl.metadata (13 kB)\n",
      "\u001b[33mWARNING: jax 0.6.2 does not provide the extra 'cuda11-pip'\u001b[0m\u001b[33m\n",
      "\u001b[0mCollecting jaxlib<=0.6.2,>=0.6.2 (from jax[cuda11_pip])\n",
      "  Downloading jaxlib-0.6.2-cp311-cp311-manylinux2014_x86_64.whl.metadata (1.3 kB)\n",
      "Collecting ml_dtypes>=0.5.0 (from jax[cuda11_pip])\n",
      "  Downloading ml_dtypes-0.5.1-cp311-cp311-manylinux_2_17_x86_64.manylinux2014_x86_64.whl.metadata (21 kB)\n",
      "Requirement already satisfied: numpy>=1.26 in /usr/local/lib/python3.11/dist-packages (from jax[cuda11_pip]) (1.26.4)\n",
      "Requirement already satisfied: opt_einsum in /usr/local/lib/python3.11/dist-packages (from jax[cuda11_pip]) (3.4.0)\n",
      "Requirement already satisfied: scipy>=1.12 in /usr/local/lib/python3.11/dist-packages (from jax[cuda11_pip]) (1.15.3)\n",
      "Downloading jax-0.6.2-py3-none-any.whl (2.7 MB)\n",
      "\u001b[2K   \u001b[90m━━━━━━━━━━━━━━━━━━━━━━━━━━━━━━━━━━━━━━━━\u001b[0m \u001b[32m2.7/2.7 MB\u001b[0m \u001b[31m20.5 MB/s\u001b[0m eta \u001b[36m0:00:00\u001b[0m\n",
      "\u001b[?25hDownloading jaxlib-0.6.2-cp311-cp311-manylinux2014_x86_64.whl (89.9 MB)\n",
      "\u001b[2K   \u001b[90m━━━━━━━━━━━━━━━━━━━━━━━━━━━━━━━━━━━━━━━━\u001b[0m \u001b[32m89.9/89.9 MB\u001b[0m \u001b[31m40.7 MB/s\u001b[0m eta \u001b[36m0:00:00\u001b[0m\n",
      "\u001b[?25hDownloading ml_dtypes-0.5.1-cp311-cp311-manylinux_2_17_x86_64.manylinux2014_x86_64.whl (4.7 MB)\n",
      "\u001b[2K   \u001b[90m━━━━━━━━━━━━━━━━━━━━━━━━━━━━━━━━━━━━━━━━\u001b[0m \u001b[32m4.7/4.7 MB\u001b[0m \u001b[31m64.4 MB/s\u001b[0m eta \u001b[36m0:00:00\u001b[0m\n",
      "\u001b[?25hInstalling collected packages: ml_dtypes, jaxlib, jax\n",
      "\u001b[2K  Attempting uninstall: ml_dtypes\n",
      "\u001b[2K    Found existing installation: ml-dtypes 0.4.1\n",
      "\u001b[2K    Uninstalling ml-dtypes-0.4.1:\n",
      "\u001b[2K      Successfully uninstalled ml-dtypes-0.4.1\n",
      "\u001b[2K   \u001b[90m━━━━━━━━━━━━━━━━━━━━━━━━━━━━━━━━━━━━━━━━\u001b[0m \u001b[32m3/3\u001b[0m [jax]\n",
      "\u001b[1A\u001b[2K\u001b[31mERROR: pip's dependency resolver does not currently take into account all the packages that are installed. This behaviour is the source of the following dependency conflicts.\n",
      "dopamine-rl 4.1.2 requires gymnasium>=1.0.0, but you have gymnasium 0.29.1 which is incompatible.\n",
      "tensorflow 2.18.0 requires ml-dtypes<0.5.0,>=0.4.0, but you have ml-dtypes 0.5.1 which is incompatible.\u001b[0m\u001b[31m\n",
      "\u001b[0mSuccessfully installed jax-0.6.2 jaxlib-0.6.2 ml_dtypes-0.5.1\n",
      "Requirement already satisfied: flax in /usr/local/lib/python3.11/dist-packages (0.10.6)\n",
      "Collecting flax\n",
      "  Downloading flax-0.10.7-py3-none-any.whl.metadata (11 kB)\n",
      "Requirement already satisfied: optax in /usr/local/lib/python3.11/dist-packages (0.2.5)\n",
      "Requirement already satisfied: chex in /usr/local/lib/python3.11/dist-packages (0.1.89)\n",
      "Requirement already satisfied: orbax-checkpoint in /usr/local/lib/python3.11/dist-packages (0.11.16)\n",
      "Collecting orbax-checkpoint\n",
      "  Downloading orbax_checkpoint-0.11.19-py3-none-any.whl.metadata (2.2 kB)\n",
      "Requirement already satisfied: numpy>=1.23.2 in /usr/local/lib/python3.11/dist-packages (from flax) (1.26.4)\n",
      "Requirement already satisfied: jax>=0.6.0 in /usr/local/lib/python3.11/dist-packages (from flax) (0.6.2)\n",
      "Requirement already satisfied: msgpack in /usr/local/lib/python3.11/dist-packages (from flax) (1.1.1)\n",
      "Requirement already satisfied: tensorstore in /usr/local/lib/python3.11/dist-packages (from flax) (0.1.74)\n",
      "Requirement already satisfied: rich>=11.1 in /usr/local/lib/python3.11/dist-packages (from flax) (13.9.4)\n",
      "Requirement already satisfied: typing_extensions>=4.2 in /usr/local/lib/python3.11/dist-packages (from flax) (4.14.1)\n",
      "Requirement already satisfied: PyYAML>=5.4.1 in /usr/local/lib/python3.11/dist-packages (from flax) (6.0.2)\n",
      "Requirement already satisfied: treescope>=0.1.7 in /usr/local/lib/python3.11/dist-packages (from flax) (0.1.9)\n",
      "Requirement already satisfied: absl-py>=0.7.1 in /usr/local/lib/python3.11/dist-packages (from optax) (1.4.0)\n",
      "Requirement already satisfied: jaxlib>=0.4.27 in /usr/local/lib/python3.11/dist-packages (from optax) (0.6.2)\n",
      "Requirement already satisfied: toolz>=0.9.0 in /usr/local/lib/python3.11/dist-packages (from chex) (0.12.1)\n",
      "Requirement already satisfied: etils[epath,epy] in /usr/local/lib/python3.11/dist-packages (from orbax-checkpoint) (1.12.2)\n",
      "Requirement already satisfied: nest_asyncio in /usr/local/lib/python3.11/dist-packages (from orbax-checkpoint) (1.6.0)\n",
      "Requirement already satisfied: protobuf in /usr/local/lib/python3.11/dist-packages (from orbax-checkpoint) (5.29.5)\n",
      "Requirement already satisfied: humanize in /usr/local/lib/python3.11/dist-packages (from orbax-checkpoint) (4.12.3)\n",
      "Requirement already satisfied: simplejson>=3.16.0 in /usr/local/lib/python3.11/dist-packages (from orbax-checkpoint) (3.20.1)\n",
      "Requirement already satisfied: ml_dtypes>=0.5.0 in /usr/local/lib/python3.11/dist-packages (from jax>=0.6.0->flax) (0.5.1)\n",
      "Requirement already satisfied: opt_einsum in /usr/local/lib/python3.11/dist-packages (from jax>=0.6.0->flax) (3.4.0)\n",
      "Requirement already satisfied: scipy>=1.12 in /usr/local/lib/python3.11/dist-packages (from jax>=0.6.0->flax) (1.15.3)\n",
      "Requirement already satisfied: markdown-it-py>=2.2.0 in /usr/local/lib/python3.11/dist-packages (from rich>=11.1->flax) (3.0.0)\n",
      "Requirement already satisfied: pygments<3.0.0,>=2.13.0 in /usr/local/lib/python3.11/dist-packages (from rich>=11.1->flax) (2.19.2)\n",
      "Requirement already satisfied: mdurl~=0.1 in /usr/local/lib/python3.11/dist-packages (from markdown-it-py>=2.2.0->rich>=11.1->flax) (0.1.2)\n",
      "Requirement already satisfied: fsspec in /usr/local/lib/python3.11/dist-packages (from etils[epath,epy]->orbax-checkpoint) (2025.3.2)\n",
      "Requirement already satisfied: importlib_resources in /usr/local/lib/python3.11/dist-packages (from etils[epath,epy]->orbax-checkpoint) (6.5.2)\n",
      "Requirement already satisfied: zipp in /usr/local/lib/python3.11/dist-packages (from etils[epath,epy]->orbax-checkpoint) (3.23.0)\n",
      "Downloading flax-0.10.7-py3-none-any.whl (456 kB)\n",
      "Downloading orbax_checkpoint-0.11.19-py3-none-any.whl (490 kB)\n",
      "Installing collected packages: orbax-checkpoint, flax\n",
      "\u001b[2K  Attempting uninstall: orbax-checkpoint\n",
      "\u001b[2K    Found existing installation: orbax-checkpoint 0.11.16\n",
      "\u001b[2K    Uninstalling orbax-checkpoint-0.11.16:\n",
      "\u001b[2K      Successfully uninstalled orbax-checkpoint-0.11.16\n",
      "\u001b[2K  Attempting uninstall: flax\n",
      "\u001b[2K    Found existing installation: flax 0.10.6\n",
      "\u001b[2K    Uninstalling flax-0.10.6:\n",
      "\u001b[2K      Successfully uninstalled flax-0.10.6\n",
      "\u001b[2K   \u001b[90m━━━━━━━━━━━━━━━━━━━━━━━━━━━━━━━━━━━━━━━━\u001b[0m \u001b[32m2/2\u001b[0m [flax]\n",
      "\u001b[1A\u001b[2K\u001b[31mERROR: pip's dependency resolver does not currently take into account all the packages that are installed. This behaviour is the source of the following dependency conflicts.\n",
      "dopamine-rl 4.1.2 requires gymnasium>=1.0.0, but you have gymnasium 0.29.1 which is incompatible.\u001b[0m\u001b[31m\n",
      "\u001b[0mSuccessfully installed flax-0.10.7 orbax-checkpoint-0.11.19\n"
     ]
    },
    {
     "name": "stderr",
     "output_type": "stream",
     "text": [
      "/usr/local/lib/python3.11/dist-packages/jaxlib/plugin_support.py:71: RuntimeWarning: JAX plugin jax_cuda12_plugin version 0.5.1 is installed, but it is not compatible with the installed jaxlib version 0.6.2, so it will not be used.\n",
      "  warnings.warn(\n"
     ]
    },
    {
     "name": "stdout",
     "output_type": "stream",
     "text": [
      "JAX: 0.6.2\n"
     ]
    },
    {
     "ename": "AttributeError",
     "evalue": "module 'jax.lib' has no attribute 'version'",
     "output_type": "error",
     "traceback": [
      "\u001b[0;31m---------------------------------------------------------------------------\u001b[0m",
      "\u001b[0;31mAttributeError\u001b[0m                            Traceback (most recent call last)",
      "\u001b[0;32m/tmp/ipython-input-2-96593530.py\u001b[0m in \u001b[0;36m<cell line: 0>\u001b[0;34m()\u001b[0m\n\u001b[1;32m     12\u001b[0m \u001b[0;32mimport\u001b[0m \u001b[0mjax\u001b[0m\u001b[0;34m,\u001b[0m \u001b[0mflax\u001b[0m\u001b[0;34m,\u001b[0m \u001b[0moptax\u001b[0m\u001b[0;34m,\u001b[0m \u001b[0mchex\u001b[0m\u001b[0;34m,\u001b[0m \u001b[0morbax\u001b[0m\u001b[0;34m.\u001b[0m\u001b[0mcheckpoint\u001b[0m \u001b[0;32mas\u001b[0m \u001b[0moc\u001b[0m\u001b[0;34m\u001b[0m\u001b[0;34m\u001b[0m\u001b[0m\n\u001b[1;32m     13\u001b[0m \u001b[0mprint\u001b[0m\u001b[0;34m(\u001b[0m\u001b[0;34m\"JAX:\"\u001b[0m\u001b[0;34m,\u001b[0m \u001b[0mjax\u001b[0m\u001b[0;34m.\u001b[0m\u001b[0m__version__\u001b[0m\u001b[0;34m)\u001b[0m\u001b[0;34m\u001b[0m\u001b[0;34m\u001b[0m\u001b[0m\n\u001b[0;32m---> 14\u001b[0;31m \u001b[0mprint\u001b[0m\u001b[0;34m(\u001b[0m\u001b[0;34m\"JAXLIB:\"\u001b[0m\u001b[0;34m,\u001b[0m \u001b[0mjax\u001b[0m\u001b[0;34m.\u001b[0m\u001b[0mlib\u001b[0m\u001b[0;34m.\u001b[0m\u001b[0mversion\u001b[0m\u001b[0;34m)\u001b[0m\u001b[0;34m\u001b[0m\u001b[0;34m\u001b[0m\u001b[0m\n\u001b[0m\u001b[1;32m     15\u001b[0m \u001b[0mprint\u001b[0m\u001b[0;34m(\u001b[0m\u001b[0;34m\"Flax:\"\u001b[0m\u001b[0;34m,\u001b[0m \u001b[0mflax\u001b[0m\u001b[0;34m.\u001b[0m\u001b[0m__version__\u001b[0m\u001b[0;34m,\u001b[0m \u001b[0;34m\"Optax:\"\u001b[0m\u001b[0;34m,\u001b[0m \u001b[0moptax\u001b[0m\u001b[0;34m.\u001b[0m\u001b[0m__version__\u001b[0m\u001b[0;34m,\u001b[0m \u001b[0;34m\"Chex:\"\u001b[0m\u001b[0;34m,\u001b[0m \u001b[0mchex\u001b[0m\u001b[0;34m.\u001b[0m\u001b[0m__version__\u001b[0m\u001b[0;34m)\u001b[0m\u001b[0;34m\u001b[0m\u001b[0;34m\u001b[0m\u001b[0m\n\u001b[1;32m     16\u001b[0m \u001b[0mprint\u001b[0m\u001b[0;34m(\u001b[0m\u001b[0;34m\"Devices:\"\u001b[0m\u001b[0;34m,\u001b[0m \u001b[0mjax\u001b[0m\u001b[0;34m.\u001b[0m\u001b[0mdevices\u001b[0m\u001b[0;34m(\u001b[0m\u001b[0;34m)\u001b[0m\u001b[0;34m)\u001b[0m\u001b[0;34m\u001b[0m\u001b[0;34m\u001b[0m\u001b[0m\n",
      "\u001b[0;31mAttributeError\u001b[0m: module 'jax.lib' has no attribute 'version'"
     ]
    }
   ],
   "source": [
    "# 1. Полностью удалить старые jax* (если они уже стоят)\n",
    "!pip uninstall -y jax jaxlib\n",
    "\n",
    "# 2. Поставить свежий JAX + GPU-колесо (CUDA 11.8 у Colab)\n",
    "#    Колесо подхватится автоматически из индекса jax_releases.\n",
    "!pip install -U \"jax[cuda11_pip]\" -f https://storage.googleapis.com/jax-releases/jax_cuda_releases.html\n",
    "\n",
    "# 3. Обновить/установить согласованные версии зависимостей\n",
    "!pip install -U flax optax chex orbax-checkpoint\n",
    "\n",
    "# 4. Быстрая самопроверка: JAX видит GPU и согласован с flax/optax\n",
    "\n"
   ]
  },
  {
   "cell_type": "code",
   "execution_count": 3,
   "metadata": {
    "colab": {
     "base_uri": "https://localhost:8080/"
    },
    "executionInfo": {
     "elapsed": 18016,
     "status": "ok",
     "timestamp": 1752426964689,
     "user": {
      "displayName": "Ivar Krauklis",
      "userId": "03959062022192129901"
     },
     "user_tz": -180
    },
    "id": "gQHikSKN50nI",
    "outputId": "ad4ebeff-f600-4851-bccf-677e4111eb76"
   },
   "outputs": [
    {
     "name": "stdout",
     "output_type": "stream",
     "text": [
      "Found existing installation: mujoco-py 2.1.2.14\n",
      "Uninstalling mujoco-py-2.1.2.14:\n",
      "  Successfully uninstalled mujoco-py-2.1.2.14\n",
      "Found existing installation: mujoco 3.3.4\n",
      "Uninstalling mujoco-3.3.4:\n",
      "  Successfully uninstalled mujoco-3.3.4\n",
      "Found existing installation: gymnasium 0.29.1\n",
      "Uninstalling gymnasium-0.29.1:\n",
      "  Successfully uninstalled gymnasium-0.29.1\n",
      "Found existing installation: dm_control 1.0.31\n",
      "Uninstalling dm_control-1.0.31:\n",
      "  Successfully uninstalled dm_control-1.0.31\n",
      "Found existing installation: glfw 2.9.0\n",
      "Uninstalling glfw-2.9.0:\n",
      "  Successfully uninstalled glfw-2.9.0\n",
      "Collecting gymnasium==1.1.0 (from gymnasium[classic-control]==1.1.0)\n",
      "  Downloading gymnasium-1.1.0-py3-none-any.whl.metadata (9.4 kB)\n",
      "Requirement already satisfied: numpy>=1.21.0 in /usr/local/lib/python3.11/dist-packages (from gymnasium==1.1.0->gymnasium[classic-control]==1.1.0) (1.26.4)\n",
      "Requirement already satisfied: cloudpickle>=1.2.0 in /usr/local/lib/python3.11/dist-packages (from gymnasium==1.1.0->gymnasium[classic-control]==1.1.0) (3.1.1)\n",
      "Requirement already satisfied: typing-extensions>=4.3.0 in /usr/local/lib/python3.11/dist-packages (from gymnasium==1.1.0->gymnasium[classic-control]==1.1.0) (4.14.1)\n",
      "Requirement already satisfied: farama-notifications>=0.0.1 in /usr/local/lib/python3.11/dist-packages (from gymnasium==1.1.0->gymnasium[classic-control]==1.1.0) (0.0.4)\n",
      "Requirement already satisfied: pygame>=2.1.3 in /usr/local/lib/python3.11/dist-packages (from gymnasium[classic-control]==1.1.0) (2.6.1)\n",
      "Downloading gymnasium-1.1.0-py3-none-any.whl (965 kB)\n",
      "\u001b[2K   \u001b[90m━━━━━━━━━━━━━━━━━━━━━━━━━━━━━━━━━━━━━━━━\u001b[0m \u001b[32m965.5/965.5 kB\u001b[0m \u001b[31m32.3 MB/s\u001b[0m eta \u001b[36m0:00:00\u001b[0m\n",
      "\u001b[?25hInstalling collected packages: gymnasium\n",
      "\u001b[31mERROR: pip's dependency resolver does not currently take into account all the packages that are installed. This behaviour is the source of the following dependency conflicts.\n",
      "ogbench 1.1.0 requires dm_control>=1.0.20, which is not installed.\n",
      "ogbench 1.1.0 requires mujoco>=3.1.6, which is not installed.\u001b[0m\u001b[31m\n",
      "\u001b[0mSuccessfully installed gymnasium-1.1.0\n",
      "Collecting mujoco>=3.1.6\n",
      "  Using cached mujoco-3.3.4-cp311-cp311-manylinux_2_17_x86_64.manylinux2014_x86_64.whl.metadata (44 kB)\n",
      "Collecting dm_control==1.0.20\n",
      "  Downloading dm_control-1.0.20-py3-none-any.whl.metadata (1.3 kB)\n",
      "Requirement already satisfied: absl-py>=0.7.0 in /usr/local/lib/python3.11/dist-packages (from dm_control==1.0.20) (1.4.0)\n",
      "Requirement already satisfied: dm-env in /usr/local/lib/python3.11/dist-packages (from dm_control==1.0.20) (1.6)\n",
      "Requirement already satisfied: dm-tree!=0.1.2 in /usr/local/lib/python3.11/dist-packages (from dm_control==1.0.20) (0.1.9)\n",
      "Collecting glfw (from dm_control==1.0.20)\n",
      "  Using cached glfw-2.9.0-py2.py27.py3.py30.py31.py32.py33.py34.py35.py36.py37.py38.p39.p310.p311.p312.p313-none-manylinux_2_28_x86_64.whl.metadata (5.4 kB)\n",
      "Requirement already satisfied: labmaze in /usr/local/lib/python3.11/dist-packages (from dm_control==1.0.20) (1.0.6)\n",
      "Requirement already satisfied: lxml in /usr/local/lib/python3.11/dist-packages (from dm_control==1.0.20) (5.4.0)\n",
      "Requirement already satisfied: numpy>=1.9.0 in /usr/local/lib/python3.11/dist-packages (from dm_control==1.0.20) (1.26.4)\n",
      "Requirement already satisfied: protobuf>=3.19.4 in /usr/local/lib/python3.11/dist-packages (from dm_control==1.0.20) (5.29.5)\n",
      "Requirement already satisfied: pyopengl>=3.1.4 in /usr/local/lib/python3.11/dist-packages (from dm_control==1.0.20) (3.1.9)\n",
      "Requirement already satisfied: pyparsing>=3.0.0 in /usr/local/lib/python3.11/dist-packages (from dm_control==1.0.20) (3.2.3)\n",
      "Requirement already satisfied: requests in /usr/local/lib/python3.11/dist-packages (from dm_control==1.0.20) (2.32.3)\n",
      "Requirement already satisfied: setuptools!=50.0.0 in /usr/local/lib/python3.11/dist-packages (from dm_control==1.0.20) (75.2.0)\n",
      "Requirement already satisfied: scipy in /usr/local/lib/python3.11/dist-packages (from dm_control==1.0.20) (1.15.3)\n",
      "Requirement already satisfied: tqdm in /usr/local/lib/python3.11/dist-packages (from dm_control==1.0.20) (4.67.1)\n",
      "Requirement already satisfied: etils[epath] in /usr/local/lib/python3.11/dist-packages (from mujoco>=3.1.6) (1.12.2)\n",
      "Requirement already satisfied: attrs>=18.2.0 in /usr/local/lib/python3.11/dist-packages (from dm-tree!=0.1.2->dm_control==1.0.20) (25.3.0)\n",
      "Requirement already satisfied: wrapt>=1.11.2 in /usr/local/lib/python3.11/dist-packages (from dm-tree!=0.1.2->dm_control==1.0.20) (1.17.2)\n",
      "Requirement already satisfied: fsspec in /usr/local/lib/python3.11/dist-packages (from etils[epath]->mujoco>=3.1.6) (2025.3.2)\n",
      "Requirement already satisfied: importlib_resources in /usr/local/lib/python3.11/dist-packages (from etils[epath]->mujoco>=3.1.6) (6.5.2)\n",
      "Requirement already satisfied: typing_extensions in /usr/local/lib/python3.11/dist-packages (from etils[epath]->mujoco>=3.1.6) (4.14.1)\n",
      "Requirement already satisfied: zipp in /usr/local/lib/python3.11/dist-packages (from etils[epath]->mujoco>=3.1.6) (3.23.0)\n",
      "Requirement already satisfied: charset-normalizer<4,>=2 in /usr/local/lib/python3.11/dist-packages (from requests->dm_control==1.0.20) (3.4.2)\n",
      "Requirement already satisfied: idna<4,>=2.5 in /usr/local/lib/python3.11/dist-packages (from requests->dm_control==1.0.20) (3.10)\n",
      "Requirement already satisfied: urllib3<3,>=1.21.1 in /usr/local/lib/python3.11/dist-packages (from requests->dm_control==1.0.20) (2.4.0)\n",
      "Requirement already satisfied: certifi>=2017.4.17 in /usr/local/lib/python3.11/dist-packages (from requests->dm_control==1.0.20) (2025.7.9)\n",
      "Downloading dm_control-1.0.20-py3-none-any.whl (56.3 MB)\n",
      "\u001b[2K   \u001b[90m━━━━━━━━━━━━━━━━━━━━━━━━━━━━━━━━━━━━━━━━\u001b[0m \u001b[32m56.3/56.3 MB\u001b[0m \u001b[31m9.1 MB/s\u001b[0m eta \u001b[36m0:00:00\u001b[0m\n",
      "\u001b[?25hUsing cached mujoco-3.3.4-cp311-cp311-manylinux_2_17_x86_64.manylinux2014_x86_64.whl (6.6 MB)\n",
      "Using cached glfw-2.9.0-py2.py27.py3.py30.py31.py32.py33.py34.py35.py36.py37.py38.p39.p310.p311.p312.p313-none-manylinux_2_28_x86_64.whl (243 kB)\n",
      "Installing collected packages: glfw, mujoco, dm_control\n",
      "\u001b[2K   \u001b[90m━━━━━━━━━━━━━━━━━━━━━━━━━━━━━━━━━━━━━━━━\u001b[0m \u001b[32m3/3\u001b[0m [dm_control]\n",
      "\u001b[1A\u001b[2K\u001b[31mERROR: pip's dependency resolver does not currently take into account all the packages that are installed. This behaviour is the source of the following dependency conflicts.\n",
      "d4rl 1.1 requires mujoco-py, which is not installed.\u001b[0m\u001b[31m\n",
      "\u001b[0mSuccessfully installed dm_control-1.0.20 glfw-2.9.0 mujoco-3.3.4\n",
      "MuJoCo version: 3.3.4\n",
      "Gymnasium version: 1.1.0\n",
      "CartPole state shape: (4,)\n",
      "✅ Все библиотеки и среда инициализировались без ошибок\n"
     ]
    }
   ],
   "source": [
    "# --- [FIX MuJoCo / Gymnasium conflicts] ------------------------------------\n",
    "# 0) (опц.) если раньше что-то ставили – подчистим\n",
    "!pip uninstall -y mujoco_py mujoco gymnasium dm_control glfw\n",
    "\n",
    "# 1) Ставим Gymnasium 1.1 c классическими задачами\n",
    "!pip install gymnasium[classic-control]==1.1.0\n",
    "\n",
    "# 2) Устанавливаем официальную MuJoCo 3.x + dm_control (OGBench это требует)\n",
    "!pip install \"mujoco>=3.1.6\" dm_control==1.0.20\n",
    "\n",
    "# 3) Переменная рендеринга: EGL → не нужен DISPLAY\n",
    "import os, sys, importlib, textwrap, subprocess, json, types\n",
    "os.environ[\"MUJOCO_GL\"] = \"egl\"\n",
    "\n",
    "# 4) Smoke-test: MuJoCo, Gymnasium, CartPole\n",
    "import mujoco, gymnasium as gym\n",
    "print(\"MuJoCo version:\", mujoco.__version__)\n",
    "print(\"Gymnasium version:\", gym.__version__)\n",
    "env = gym.make(\"CartPole-v1\")\n",
    "state, _ = env.reset()\n",
    "print(\"CartPole state shape:\", state.shape)\n",
    "env.close()\n",
    "print(\"✅ Все библиотеки и среда инициализировались без ошибок\")\n",
    "\n"
   ]
  },
  {
   "cell_type": "code",
   "execution_count": 1,
   "metadata": {
    "colab": {
     "base_uri": "https://localhost:8080/"
    },
    "executionInfo": {
     "elapsed": 5714,
     "status": "ok",
     "timestamp": 1752427002362,
     "user": {
      "displayName": "Ivar Krauklis",
      "userId": "03959062022192129901"
     },
     "user_tz": -180
    },
    "id": "w4ISjNFz9U6W",
    "outputId": "d43eb9c4-2a8f-4abb-d984-1aaa4595e26d"
   },
   "outputs": [
    {
     "name": "stdout",
     "output_type": "stream",
     "text": [
      "Found existing installation: gymnasium 0.29.1\n",
      "Uninstalling gymnasium-0.29.1:\n",
      "  Successfully uninstalled gymnasium-0.29.1\n",
      "\u001b[33mWARNING: Skipping jax_cuda12_plugin as it is not installed.\u001b[0m\u001b[33m\n",
      "\u001b[0mCollecting gymnasium==0.29.1 (from gymnasium[classic-control]==0.29.1)\n",
      "  Using cached gymnasium-0.29.1-py3-none-any.whl.metadata (10 kB)\n",
      "Requirement already satisfied: numpy>=1.21.0 in /usr/local/lib/python3.11/dist-packages (from gymnasium==0.29.1->gymnasium[classic-control]==0.29.1) (1.26.4)\n",
      "Requirement already satisfied: cloudpickle>=1.2.0 in /usr/local/lib/python3.11/dist-packages (from gymnasium==0.29.1->gymnasium[classic-control]==0.29.1) (3.1.1)\n",
      "Requirement already satisfied: typing-extensions>=4.3.0 in /usr/local/lib/python3.11/dist-packages (from gymnasium==0.29.1->gymnasium[classic-control]==0.29.1) (4.14.1)\n",
      "Requirement already satisfied: farama-notifications>=0.0.1 in /usr/local/lib/python3.11/dist-packages (from gymnasium==0.29.1->gymnasium[classic-control]==0.29.1) (0.0.4)\n",
      "Requirement already satisfied: pygame>=2.1.3 in /usr/local/lib/python3.11/dist-packages (from gymnasium[classic-control]==0.29.1) (2.6.1)\n",
      "Using cached gymnasium-0.29.1-py3-none-any.whl (953 kB)\n",
      "Installing collected packages: gymnasium\n",
      "\u001b[31mERROR: pip's dependency resolver does not currently take into account all the packages that are installed. This behaviour is the source of the following dependency conflicts.\n",
      "dopamine-rl 4.1.2 requires gymnasium>=1.0.0, but you have gymnasium 0.29.1 which is incompatible.\u001b[0m\u001b[31m\n",
      "\u001b[0mSuccessfully installed gymnasium-0.29.1\n"
     ]
    }
   ],
   "source": [
    "# ⬅️ Ячейка A: правильная версия Gymnasium + удаляем лишний плагин\n",
    "!pip uninstall -y gymnasium jax_cuda12_plugin\n",
    "!pip install gymnasium[classic-control]==0.29.1\n"
   ]
  },
  {
   "cell_type": "code",
   "execution_count": 5,
   "metadata": {
    "colab": {
     "base_uri": "https://localhost:8080/"
    },
    "executionInfo": {
     "elapsed": 22,
     "status": "ok",
     "timestamp": 1752427087044,
     "user": {
      "displayName": "Ivar Krauklis",
      "userId": "03959062022192129901"
     },
     "user_tz": -180
    },
    "id": "Px6LbNLVyzqM",
    "outputId": "9d786f2f-39af-4d2f-cbac-862a7a9bc995"
   },
   "outputs": [
    {
     "name": "stdout",
     "output_type": "stream",
     "text": [
      "✅ Patched MujocoEnv.render → визуализация отключена\n"
     ]
    }
   ],
   "source": [
    "# ⬅️ ВСТАВЬТЕ ЭТУ ЯЧЕЙКУ ПЕРЕД training-ячейкой main.py\n",
    "import os\n",
    "\n",
    "# 1) говорим MuJoCo пользоваться EGL-бэкендом и не лезть в X11\n",
    "os.environ[\"MUJOCO_GL\"] = \"egl\"\n",
    "\n",
    "# 2) \"глушим\" сам вызов render у всех MuJoCo-сред Gymnasium\n",
    "from gymnasium.envs.mujoco import mujoco_env\n",
    "def _no_render(self, *args, **kwargs):\n",
    "    # ничего не делаем, просто возвращаем заглушку\n",
    "    return None\n",
    "mujoco_env.MujocoEnv.render = _no_render\n",
    "\n",
    "print(\"✅ Patched MujocoEnv.render → визуализация отключена\")"
   ]
  },
  {
   "cell_type": "code",
   "execution_count": 10,
   "metadata": {
    "colab": {
     "base_uri": "https://localhost:8080/"
    },
    "executionInfo": {
     "elapsed": 109531,
     "status": "ok",
     "timestamp": 1752427404853,
     "user": {
      "displayName": "Ivar Krauklis",
      "userId": "03959062022192129901"
     },
     "user_tz": -180
    },
    "id": "4WuUELy--8vY",
    "outputId": "77bdf1cf-93f9-4c55-8756-d8f990e743e6"
   },
   "outputs": [
    {
     "name": "stdout",
     "output_type": "stream",
     "text": [
      "2025-07-13 17:21:35.875883: E external/local_xla/xla/stream_executor/cuda/cuda_fft.cc:477] Unable to register cuFFT factory: Attempting to register factory for plugin cuFFT when one has already been registered\n",
      "WARNING: All log messages before absl::InitializeLog() is called are written to STDERR\n",
      "E0000 00:00:1752427295.895113    4129 cuda_dnn.cc:8310] Unable to register cuDNN factory: Attempting to register factory for plugin cuDNN when one has already been registered\n",
      "E0000 00:00:1752427295.901230    4129 cuda_blas.cc:1418] Unable to register cuBLAS factory: Attempting to register factory for plugin cuBLAS when one has already been registered\n",
      "WARNING:jax_plugins.xla_cuda12:cuda_plugin_extension is not found.\n",
      "<frozen importlib._bootstrap>:283: DeprecationWarning: the load_module() method is deprecated and slated for removal in Python 3.12; use exec_module() instead\n",
      "\u001b[34m\u001b[1mwandb\u001b[0m: \u001b[33mWARNING\u001b[0m `start_method` is deprecated and will be removed in a future version of wandb. This setting is currently non-functional and safely ignored.\n",
      "\u001b[34m\u001b[1mwandb\u001b[0m: (1) Create a W&B account\n",
      "\u001b[34m\u001b[1mwandb\u001b[0m: (2) Use an existing W&B account\n",
      "\u001b[34m\u001b[1mwandb\u001b[0m: (3) Don't visualize my results\n",
      "\u001b[34m\u001b[1mwandb\u001b[0m: Enter your choice: 2\n",
      "\u001b[34m\u001b[1mwandb\u001b[0m: You chose 'Use an existing W&B account'\n",
      "\u001b[34m\u001b[1mwandb\u001b[0m: Logging into wandb.ai. (Learn how to deploy a W&B server locally: https://wandb.me/wandb-server)\n",
      "\u001b[34m\u001b[1mwandb\u001b[0m: You can find your API key in your browser here: https://wandb.ai/authorize?ref=models\n",
      "\u001b[34m\u001b[1mwandb\u001b[0m: Paste an API key from your profile and hit enter, or press ctrl+c to quit: \n",
      "\u001b[34m\u001b[1mwandb\u001b[0m: No netrc file found, creating one.\n",
      "\u001b[34m\u001b[1mwandb\u001b[0m: Appending key for api.wandb.ai to your netrc file: /root/.netrc\n",
      "\u001b[34m\u001b[1mwandb\u001b[0m: Currently logged in as: \u001b[33mjiornojovanagoldexp\u001b[0m (\u001b[33mjiornojovanagoldexp-scoltech\u001b[0m) to \u001b[32mhttps://api.wandb.ai\u001b[0m. Use \u001b[1m`wandb login --relogin`\u001b[0m to force relogin\n",
      "/usr/local/lib/python3.11/dist-packages/wandb/analytics/sentry.py:258: DeprecationWarning: The `Scope.user` setter is deprecated in favor of `Scope.set_user()`.\n",
      "  self.scope.user = {\"email\": email}\n",
      "/usr/local/lib/python3.11/dist-packages/wandb/analytics/sentry.py:258: DeprecationWarning: The `Scope.user` setter is deprecated in favor of `Scope.set_user()`.\n",
      "  self.scope.user = {\"email\": email}\n",
      "\u001b[34m\u001b[1mwandb\u001b[0m: Tracking run with wandb version 0.21.0\n",
      "\u001b[34m\u001b[1mwandb\u001b[0m: Run data is saved locally in \u001b[35m\u001b[1m/tmp/tmprg3a5bbj/wandb/run-20250713_172224-xaujyvty\u001b[0m\n",
      "\u001b[34m\u001b[1mwandb\u001b[0m: Run \u001b[1m`wandb offline`\u001b[0m to turn off syncing.\n",
      "\u001b[34m\u001b[1mwandb\u001b[0m: Syncing run \u001b[33msd000_20250713_172141\u001b[0m\n",
      "\u001b[34m\u001b[1mwandb\u001b[0m: ⭐️ View project at \u001b[34m\u001b[4mhttps://wandb.ai/jiornojovanagoldexp-scoltech/fql\u001b[0m\n",
      "\u001b[34m\u001b[1mwandb\u001b[0m: 🚀 View run at \u001b[34m\u001b[4mhttps://wandb.ai/jiornojovanagoldexp-scoltech/fql/runs/xaujyvty\u001b[0m\n",
      "Downloading dataset from: https://rail.eecs.berkeley.edu/datasets/ogbench/antsoccer-arena-navigate-v0.npz\n",
      "antsoccer-arena-navigate-v0.npz: 100% 303M/303M [00:17<00:00, 18.0MB/s]\n",
      "Downloading dataset from: https://rail.eecs.berkeley.edu/datasets/ogbench/antsoccer-arena-navigate-v0-val.npz\n",
      "antsoccer-arena-navigate-v0-val.npz: 100% 30.4M/30.4M [00:02<00:00, 11.7MB/s]\n",
      "  0% 0/100000 [00:00<?, ?it/s]\n",
      "  0% 0/50 [00:00<?, ?it/s]\u001b[A\n",
      "  2% 1/50 [00:02<02:20,  2.88s/it]\u001b[A\n",
      "  4% 2/50 [00:04<01:54,  2.38s/it]\u001b[A\n",
      "  6% 3/50 [00:08<02:15,  2.89s/it]\n",
      "  0% 0/100000 [00:21<?, ?it/s]\n",
      "Error in sys.excepthook:\n",
      "Traceback (most recent call last):\n",
      "  File \"/usr/local/lib/python3.11/dist-packages/wandb/sdk/lib/exit_hooks.py\", line 52, in exc_handler\n",
      "    traceback.print_exception(exc_type, exc, tb)\n",
      "  File \"/usr/lib/python3.11/traceback.py\", line 124, in print_exception\n",
      "    te = TracebackException(type(value), value, tb, limit=limit, compact=True)\n",
      "         ^^^^^^^^^^^^^^^^^^^^^^^^^^^^^^^^^^^^^^^^^^^^^^^^^^^^^^^^^^^^^^^^^^^^^\n",
      "  File \"/usr/lib/python3.11/traceback.py\", line 728, in __init__\n",
      "    self.stack = StackSummary._extract_from_extended_frame_gen(\n",
      "                 ^^^^^^^^^^^^^^^^^^^^^^^^^^^^^^^^^^^^^^^^^^^^^^\n",
      "  File \"/usr/lib/python3.11/traceback.py\", line 413, in _extract_from_extended_frame_gen\n",
      "    for f, (lineno, end_lineno, colno, end_colno) in frame_gen:\n",
      "  File \"/usr/lib/python3.11/traceback.py\", line 350, in _walk_tb_with_full_positions\n",
      "    positions = _get_code_position(tb.tb_frame.f_code, tb.tb_lasti)\n",
      "                ^^^^^^^^^^^^^^^^^^^^^^^^^^^^^^^^^^^^^^^^^^^^^^^^^^^\n",
      "  File \"/usr/lib/python3.11/traceback.py\", line 364, in _get_code_position\n",
      "    return next(itertools.islice(positions_gen, instruction_index // 2, None))\n",
      "           ^^^^^^^^^^^^^^^^^^^^^^^^^^^^^^^^^^^^^^^^^^^^^^^^^^^^^^^^^^^^^^^^^^^\n",
      "KeyboardInterrupt\n",
      "\n",
      "Original exception was:\n",
      "Traceback (most recent call last):\n",
      "  File \"/content/fql/main.py\", line 223, in <module>\n",
      "    app.run(main)\n",
      "  File \"/usr/local/lib/python3.11/dist-packages/absl/app.py\", line 308, in run\n",
      "    _run_main(main, args)\n",
      "  File \"/usr/local/lib/python3.11/dist-packages/absl/app.py\", line 254, in _run_main\n",
      "    sys.exit(main(argv))\n",
      "             ^^^^^^^^^^\n",
      "  File \"/content/fql/main.py\", line 195, in main\n",
      "    eval_info, trajs, cur_renders = evaluate(\n",
      "                                    ^^^^^^^^^\n",
      "  File \"/content/fql/utils/evaluation.py\", line 78, in evaluate\n",
      "    next_observation, reward, terminated, truncated, info = env.step(action)\n",
      "                                                            ^^^^^^^^^^^^^^^^\n",
      "  File \"/content/fql/envs/env_utils.py\", line 28, in step\n",
      "    observation, reward, terminated, truncated, info = self.env.step(action)\n",
      "                                                       ^^^^^^^^^^^^^^^^^^^^^\n",
      "  File \"/usr/local/lib/python3.11/dist-packages/gymnasium/wrappers/time_limit.py\", line 57, in step\n",
      "    observation, reward, terminated, truncated, info = self.env.step(action)\n",
      "                                                       ^^^^^^^^^^^^^^^^^^^^^\n",
      "  File \"/usr/local/lib/python3.11/dist-packages/gymnasium/wrappers/order_enforcing.py\", line 56, in step\n",
      "    return self.env.step(action)\n",
      "           ^^^^^^^^^^^^^^^^^^^^^\n",
      "  File \"/usr/local/lib/python3.11/dist-packages/gymnasium/wrappers/env_checker.py\", line 51, in step\n",
      "    return self.env.step(action)\n",
      "           ^^^^^^^^^^^^^^^^^^^^^\n",
      "  File \"/usr/local/lib/python3.11/dist-packages/ogbench/locomaze/maze.py\", line 650, in step\n",
      "    ob, reward, terminated, truncated, info = super(MazeEnv, self).step(action)\n",
      "                                              ^^^^^^^^^^^^^^^^^^^^^^^^^^^^^^^^^\n",
      "  File \"/usr/local/lib/python3.11/dist-packages/ogbench/locomaze/ant.py\", line 70, in step\n",
      "    self.do_simulation(action, self.frame_skip)\n",
      "  File \"/usr/local/lib/python3.11/dist-packages/gymnasium/envs/mujoco/mujoco_env.py\", line 177, in do_simulation\n",
      "    self._step_mujoco_simulation(ctrl, n_frames)\n",
      "  File \"/usr/local/lib/python3.11/dist-packages/gymnasium/envs/mujoco/mujoco_env.py\", line 401, in _step_mujoco_simulation\n",
      "    mujoco.mj_step(self.model, self.data, nstep=n_frames)\n",
      "KeyboardInterrupt\n",
      "\u001b[1;34mwandb\u001b[0m: \n",
      "\u001b[1;34mwandb\u001b[0m: 🚀 View run \u001b[33msd000_20250713_172141\u001b[0m at: \u001b[34mhttps://wandb.ai/jiornojovanagoldexp-scoltech/fql/runs/xaujyvty\u001b[0m\n",
      "\u001b[1;34mwandb\u001b[0m: Find logs at: \u001b[1;35m../../tmp/tmprg3a5bbj/wandb/run-20250713_172224-xaujyvty/logs\u001b[0m\n",
      "^C\n"
     ]
    }
   ],
   "source": [
    "\n",
    "\n",
    "!python main.py \\\n",
    "  --env_name=antsoccer-arena-navigate-singletask-v0 \\\n",
    "  --offline_steps=100000 \\\n",
    "  --online_steps=0 \\\n",
    "  --agent.alpha=10 \\\n",
    "  --run_group=no-render-demo \\\n",
    "  --agent.normalize_q_loss=True\n"
   ]
  }
 ],
 "metadata": {
  "accelerator": "GPU",
  "colab": {
   "authorship_tag": "ABX9TyM7dHNRuFp/OKPCDahGRxW2",
   "gpuType": "T4",
   "provenance": []
  },
  "kernelspec": {
   "display_name": "Python 3",
   "name": "python3"
  },
  "language_info": {
   "name": "python"
  }
 },
 "nbformat": 4,
 "nbformat_minor": 0
}
